{
 "cells": [
  {
   "cell_type": "code",
   "execution_count": 2,
   "metadata": {},
   "outputs": [],
   "source": [
    "import random "
   ]
  },
  {
   "cell_type": "code",
   "execution_count": 3,
   "metadata": {},
   "outputs": [],
   "source": [
    "jobs = [\n",
    "    {\n",
    "        \"name\": \"job1\",\n",
    "        \"required_gpus\": 2,\n",
    "    },\n",
    "    {\n",
    "        \"name\": \"job2\",\n",
    "        \"required_gpus\": 4,\n",
    "    },\n",
    "    {\n",
    "        \"name\": \"job3\",\n",
    "        \"required_gpus\": 3,\n",
    "    },\n",
    "    {\n",
    "        \"name\": \"job4\",\n",
    "        \"required_gpus\": 2,\n",
    "    },\n",
    "    {\n",
    "        \"name\": \"job5\",\n",
    "        \"required_gpus\": 1,\n",
    "    },\n",
    "    {\n",
    "        \"name\": \"job6\",\n",
    "        \"required_gpus\": 1,\n",
    "    },\n",
    "\n",
    "]"
   ]
  },
  {
   "cell_type": "code",
   "execution_count": 43,
   "metadata": {},
   "outputs": [
    {
     "data": {
      "text/plain": [
       "1"
      ]
     },
     "execution_count": 43,
     "metadata": {},
     "output_type": "execute_result"
    }
   ],
   "source": [
    "def top_priority(jobs):\n",
    "    # take the required gpu of j_pivot\n",
    "    j_pivot = random.choice(jobs)\n",
    "    j_pivot_gpus = j_pivot[\"required_gpus\"]\n",
    "\n",
    "    for j in jobs:\n",
    "        ja = j_pivot_gpus\n",
    "        jb = j\n",
    "\n",
    "        #if level of contention ja and jb = 0,\n",
    "        if ja == 0 and jb == 0:\n",
    "            # if ja < jb then j_pivot  = ja and jb = j\n",
    "            if ja < jb:\n",
    "                j_pivot = ja\n",
    "                j = jb\n",
    "            # if ja > jb then j_pivot  = jb and ja = j\n",
    "            elif ja > jb:\n",
    "                j_pivot = jb\n",
    "                j = ja\n",
    "    return j_pivot\n",
    "\n",
    "top_priority(jobs)"
   ]
  },
  {
   "cell_type": "code",
   "execution_count": 44,
   "metadata": {},
   "outputs": [],
   "source": [
    "# def top_priority1(jobs):\n",
    "#     # Sort jobs by required_gpus in descending order\n",
    "#     jobs.sort(key=lambda x: x[\"required_gpus\"], reverse=True)\n",
    "#     # Set top priority to the first job\n",
    "#     jobs[0][\"priority\"] = 1\n",
    "#     # Set priority to the rest of the jobs\n",
    "#     for i in range(1, len(jobs)):\n",
    "#         jobs[i][\"priority\"] = jobs[i - 1][\"priority\"] + 1\n",
    "    \n",
    "#     return jobs"
   ]
  },
  {
   "cell_type": "code",
   "execution_count": 53,
   "metadata": {},
   "outputs": [],
   "source": [
    "def asfl (jobs, total_resource):\n",
    "    for j in jobs:\n",
    "        j[\"contention_level\"] = 0\n",
    "\n",
    "    # set total_resource to available_resource\n",
    "    available_resource = total_resource\n",
    "    while available_resource > 0:\n",
    "        j_pivot =  top_priority(jobs)\n",
    "        j_pivot[\"contention_level\"] = j_pivot[\"contention_level\"] + 1\n",
    "        available_resource = available_resource - 1\n",
    "    \n",
    "    # for j in jobs:\n",
    "    #   allocate j contention level gpus to j\n",
    "        \n",
    "    \n",
    "    return jobs"
   ]
  },
  {
   "cell_type": "code",
   "execution_count": null,
   "metadata": {},
   "outputs": [],
   "source": [
    "asfl (jobs, 3)"
   ]
  }
 ],
 "metadata": {
  "kernelspec": {
   "display_name": "Python 3.10.4 ('schedulearn')",
   "language": "python",
   "name": "python3"
  },
  "language_info": {
   "codemirror_mode": {
    "name": "ipython",
    "version": 3
   },
   "file_extension": ".py",
   "mimetype": "text/x-python",
   "name": "python",
   "nbconvert_exporter": "python",
   "pygments_lexer": "ipython3",
   "version": "3.10.4"
  },
  "orig_nbformat": 4,
  "vscode": {
   "interpreter": {
    "hash": "6d21b1a4c97c14464051ad23c763e54a61db35293a85ae956d3b71768d4e82a0"
   }
  }
 },
 "nbformat": 4,
 "nbformat_minor": 2
}
