{
 "cells": [
  {
   "cell_type": "code",
   "execution_count": 91,
   "metadata": {},
   "outputs": [],
   "source": [
    "import random "
   ]
  },
  {
   "cell_type": "code",
   "execution_count": 92,
   "metadata": {},
   "outputs": [],
   "source": [
    "# make a class called jobs that contain job name, required gpu, number of contention, and estimated time \n",
    "class jobs:\n",
    "    def __init__(self, name, req_gpu, contention, est_len):\n",
    "        self.name = name\n",
    "        self.req_gpu = req_gpu\n",
    "        self.contention = contention\n",
    "        self.est_len = est_len\n",
    "job1 = jobs('job1', 2, 0, 10)\n",
    "job2 = jobs('job2', 1, 0, 5)\n",
    "job3 = jobs('job3', 4, 0, 20)\n",
    "job4 = jobs('job4', 3, 0, 15)\n",
    "job5 = jobs('job5', 2, 0, 15)\n",
    "job6 = jobs('job6', 1, 0, 10)"
   ]
  },
  {
   "cell_type": "code",
   "execution_count": 93,
   "metadata": {},
   "outputs": [],
   "source": [
    "def top_priority (jobs):\n",
    "    #take a random job from the list of jobs\n",
    "    j_pivot = random.choice(jobs)\n",
    "\n",
    "    for j in jobs:\n",
    "        # assign j_pivot to ja and j to jb\n",
    "        ja = j_pivot\n",
    "        jb = j\n",
    "\n",
    "        if ja.contention == 0 and jb.contention == 0:\n",
    "            if ja.est_len < jb.est_len:\n",
    "                j_pivot = ja\n",
    "            else:\n",
    "                j_pivot = jb\n",
    "        else:\n",
    "            if ja.est_len>= jb.est_len:\n",
    "                j_pivot = jb\n",
    "            else:\n",
    "                j_pivot = ja\n",
    "    return j_pivot"
   ]
  },
  {
   "cell_type": "code",
   "execution_count": 104,
   "metadata": {},
   "outputs": [
    {
     "name": "stdout",
     "output_type": "stream",
     "text": [
      "job2 has been completed\n",
      "job6 has been completed\n",
      "job1 has been completed\n",
      "job5 has been completed\n",
      "job4 has been completed\n",
      "job3 has been completed\n"
     ]
    },
    {
     "data": {
      "text/plain": [
       "22"
      ]
     },
     "execution_count": 104,
     "metadata": {},
     "output_type": "execute_result"
    }
   ],
   "source": [
    "def asfl (jobs, total_resource):\n",
    "    for j in jobs:\n",
    "        j.contention = 0\n",
    "    \n",
    "    available_gpu = total_resource\n",
    "\n",
    "    while available_gpu > 0:\n",
    "        j_pivot = top_priority(jobs)\n",
    "        j_pivot.contention += 1\n",
    "        # if the job has achieved required gpu, remove it from the list \n",
    "        available_gpu -= 1\n",
    "        if j_pivot.req_gpu == j_pivot.contention:\n",
    "            print (j_pivot.name, 'has been completed')\n",
    "            jobs.remove(j_pivot)\n",
    "        #if all jobs have been completed, break the loop\n",
    "        if len(jobs) == 0:\n",
    "            break\n",
    "    return available_gpu\n",
    "asfl([job1,job2,job3,job4,job5,job6], 35)"
   ]
  }
 ],
 "metadata": {
  "kernelspec": {
   "display_name": "Python 3.10.4 ('schedulearn')",
   "language": "python",
   "name": "python3"
  },
  "language_info": {
   "codemirror_mode": {
    "name": "ipython",
    "version": 3
   },
   "file_extension": ".py",
   "mimetype": "text/x-python",
   "name": "python",
   "nbconvert_exporter": "python",
   "pygments_lexer": "ipython3",
   "version": "3.10.4"
  },
  "orig_nbformat": 4,
  "vscode": {
   "interpreter": {
    "hash": "6d21b1a4c97c14464051ad23c763e54a61db35293a85ae956d3b71768d4e82a0"
   }
  }
 },
 "nbformat": 4,
 "nbformat_minor": 2
}
